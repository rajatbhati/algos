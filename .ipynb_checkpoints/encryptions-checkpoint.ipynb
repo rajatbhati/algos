{
 "cells": [
  {
   "cell_type": "markdown",
   "metadata": {
    "deletable": true,
    "editable": true
   },
   "source": [
    "# DES encrytions "
   ]
  },
  {
   "cell_type": "markdown",
   "metadata": {
    "deletable": true,
    "editable": true
   },
   "source": [
    "##### DES"
   ]
  },
  {
   "cell_type": "code",
   "execution_count": 1,
   "metadata": {
    "collapsed": false,
    "deletable": true,
    "editable": true
   },
   "outputs": [
    {
     "name": "stdout",
     "output_type": "stream",
     "text": [
      "--- 62.8836128712 seconds ---\n",
      "Encrypted: '\\x88\\x91\\xf1,{\"\\xdf\\x88\\xf7*A\\xb0\\x10\\xfb\\x91\\xf2\\xa2\\xdf\\xd6O\\xc9\\xb72\\x8c\\x00L\\x15\\xc6\\\\;_\\x89'\n",
      "Decrypted: '{_id: 1052 , data : 182}'\n"
     ]
    }
   ],
   "source": [
    "import pyDes\n",
    "import time\n",
    "start_time = time.time()\n",
    "k = pyDes.des(\"DESCRYPT\", pyDes.CBC, \"\\0\\0\\0\\0\\0\\0\\0\\0\", pad=None, padmode=pyDes.PAD_PKCS5)\n",
    "for i in range(10000):\n",
    "    data = \"{_id: 1052 , data : 182}\";\n",
    "    d = k.encrypt(data)\n",
    "    p=k.decrypt(d)\n",
    "print(\"--- %s seconds ---\" % (time.time() - start_time))\n",
    "print \"Encrypted: %r\" % d\n",
    "print \"Decrypted: %r\" % p\n",
    "assert k.decrypt(d) == data"
   ]
  },
  {
   "cell_type": "markdown",
   "metadata": {
    "deletable": true,
    "editable": true
   },
   "source": [
    "##### triple DES"
   ]
  },
  {
   "cell_type": "code",
   "execution_count": 2,
   "metadata": {
    "collapsed": false,
    "deletable": true,
    "editable": true
   },
   "outputs": [
    {
     "name": "stdout",
     "output_type": "stream",
     "text": [
      "--- 193.035979986 seconds ---\n",
      "Encrypted: '\\x0f\\xb5\\xf8\\xb8\\x165\\xad\\x86\\x1fz\\x97\\xf5\\xbd/\\xaej\\x8f\\xa6\\xd9\\xfejd\\xd2\\x19\\xda\\x04\\x93p\\x088o-'\n",
      "Decrypted: '{_id: 1052 , data : 152}'\n"
     ]
    }
   ],
   "source": [
    "import pyDes\n",
    "import time\n",
    "start_time = time.time()\n",
    "k = pyDes.triple_des(\"DESCRYPTION12345\", pyDes.CBC, \"\\0\\0\\0\\0\\0\\0\\0\\0\", pad=None, padmode=pyDes.PAD_PKCS5)\n",
    "for i in range(10000):\n",
    "    data = \"{_id: 1052 , data : 152}\";\n",
    "    d = k.encrypt(data)\n",
    "    p=k.decrypt(d)\n",
    "print(\"--- %s seconds ---\" % (time.time() - start_time))\n",
    "print \"Encrypted: %r\" % d\n",
    "print \"Decrypted: %r\" % p\n",
    "assert k.decrypt(d) == data"
   ]
  },
  {
   "cell_type": "markdown",
   "metadata": {
    "deletable": true,
    "editable": true
   },
   "source": [
    "## RSA "
   ]
  },
  {
   "cell_type": "code",
   "execution_count": 3,
   "metadata": {
    "collapsed": false,
    "deletable": true,
    "editable": true
   },
   "outputs": [
    {
     "name": "stdout",
     "output_type": "stream",
     "text": [
      "--- 15.6524910927 seconds ---\n",
      "Encrypted: \"R#E\\xfc\\x7fiG2\\x920\\x94Q\\xc0\\xc2O\\xb44\\x04F\\xd3*1\\x19\\xfcO&\\xfa\\xf8\\x95\\xd53\\xbd?G\\x18C\\xac\\x1chQ\\xcc'D<\\x08\\xd0w\\xc2\\xdb\\xe5\\xa3\\x17Y+\\x15\\x96\\xa4\\xffEy\\xbeY\\xdff\"\n",
      "{_id: 1052 , data : 152}\n"
     ]
    }
   ],
   "source": [
    "import rsa\n",
    "\n",
    "import time\n",
    "start_time = time.time()\n",
    "(U1_pub, U1_priv) = rsa.newkeys(512)\n",
    "for i in range(10000):\n",
    "    data = \"{_id: 1052 , data : 152}\";\n",
    "    message = data.encode('utf8')\n",
    "    crypto = rsa.encrypt(message, U1_pub)\n",
    "    message = rsa.decrypt(crypto, U1_priv)\n",
    "\n",
    "print(\"--- %s seconds ---\" % (time.time() - start_time))\n",
    "\n",
    "print \"Encrypted: %r\" %crypto\n",
    "print(message.decode('utf8'))"
   ]
  },
  {
   "cell_type": "markdown",
   "metadata": {
    "deletable": true,
    "editable": true
   },
   "source": [
    "## Blowfish"
   ]
  },
  {
   "cell_type": "code",
   "execution_count": 4,
   "metadata": {
    "collapsed": false,
    "deletable": true,
    "editable": true,
    "scrolled": true
   },
   "outputs": [
    {
     "name": "stdout",
     "output_type": "stream",
     "text": [
      "--- 1.69506692886 seconds ---\n",
      "Encrypted: '{_id: 1052 , data : 152}'\n",
      "{_id: 1052 , data : 152}\n"
     ]
    }
   ],
   "source": [
    "from Crypto.Cipher import Blowfish\n",
    "from Crypto import Random\n",
    "from struct import pack\n",
    "\n",
    "bs = Blowfish.block_size\n",
    "key = b'DESCRYPTION12345'\n",
    "import time\n",
    "start_time = time.time()\n",
    "for i in range(10000):\n",
    "\n",
    "\n",
    "    iv = Random.new().read(bs)\n",
    "    cipher = Blowfish.new(key, Blowfish.MODE_CBC, iv)\n",
    "    plaintext = b\"{_id: 1052 , data : 152}\";\n",
    "    plen = bs - divmod(len(plaintext),bs)[1]\n",
    "    padding = [plen]*plen\n",
    "    padding = pack('b'*plen, *padding)\n",
    "    msg = iv + cipher.encrypt(plaintext + padding)\n",
    "\n",
    "    ciphertext=msg\n",
    "    iv = ciphertext[:bs]\n",
    "    ciphertext = ciphertext[bs:]\n",
    "\n",
    "    cipher = Blowfish.new(key, Blowfish.MODE_CBC, iv)\n",
    "    msg = cipher.decrypt(ciphertext)\n",
    "\n",
    "    last_byte = msg[-1]\n",
    "    msg = msg[:- (last_byte if type(last_byte) is int else ord(last_byte))]\n",
    "\n",
    "\n",
    "print(\"--- %s seconds ---\" % (time.time() - start_time))\n",
    "\n",
    "print \"Encrypted: %r\" % msg\n",
    "\n",
    "print(str(msg))"
   ]
  },
  {
   "cell_type": "markdown",
   "metadata": {
    "deletable": true,
    "editable": true
   },
   "source": [
    "## Two Fish"
   ]
  },
  {
   "cell_type": "code",
   "execution_count": 5,
   "metadata": {
    "collapsed": false,
    "deletable": true,
    "editable": true,
    "scrolled": true
   },
   "outputs": [
    {
     "name": "stdout",
     "output_type": "stream",
     "text": [
      "--- 0.285560131073 seconds ---\n",
      "Encrypted: '\\xc4X\\xf8?\\xd4\\x12C\\x19z\\xb5\\xf3\\xb0L\\xcd\\xa7\\x1c\\x96\\xf9\\xde\\xbb7\\x19t,\\xe7\\x91\\x04\\xd1Sa\\xd2\\xbb' \n",
      "{_id: 1052 , data : 182}########\n"
     ]
    }
   ],
   "source": [
    "\n",
    "from twofish import Twofish\n",
    "T = Twofish(b'DESCRYPTION12345')\n",
    "\n",
    "import time\n",
    "start_time = time.time()\n",
    "for i in range(10000):\n",
    "\n",
    "    x = T.encrypt(b\"{_id: 1052 , dat\");\n",
    "    x2 = T.encrypt(b\"a : 182}########\");\n",
    "    res=T.decrypt(x).decode() + T.decrypt(x2).decode()\n",
    "\n",
    "\n",
    "print(\"--- %s seconds ---\" % (time.time() - start_time))\n",
    "\n",
    "print \"Encrypted: %r \" % (x+x2)\n",
    "print res\n"
   ]
  },
  {
   "cell_type": "markdown",
   "metadata": {
    "deletable": true,
    "editable": true
   },
   "source": [
    "## AES"
   ]
  },
  {
   "cell_type": "code",
   "execution_count": 6,
   "metadata": {
    "collapsed": false,
    "deletable": true,
    "editable": true
   },
   "outputs": [
    {
     "name": "stdout",
     "output_type": "stream",
     "text": [
      "--- 0.122629165649 seconds ---\n",
      "Encrypted: '\\xc1q\\xad\\x8a\\xa6/\\x02\\x81\\xf4\\x00a\\xdc\\\\}\\xe9\\xe2i\\x9a\\xbf\\xee\\xf2qS\\xa5I#_\\xd4\\xf8aAJ' \n",
      "Decrypted: '{_id: 1052 , data : 152}########' \n"
     ]
    }
   ],
   "source": [
    "from Crypto.Cipher import AES\n",
    "import time\n",
    "start_time = time.time()\n",
    "for i in range(10000):\n",
    "    obj = AES.new('DESCRYPTION12345', AES.MODE_CBC, 'This is an IV456')\n",
    "    message = \"{_id: 1052 , data : 152}########\"\n",
    "    ciphertext = obj.encrypt(message)\n",
    "    obj2 = AES.new('DESCRYPTION12345', AES.MODE_CBC, 'This is an IV456')\n",
    "    a=obj2.decrypt(ciphertext)\n",
    "\n",
    "\n",
    "print(\"--- %s seconds ---\" % (time.time() - start_time))\n",
    "print \"Encrypted: %r \" % ciphertext\n",
    "print \"Decrypted: %r \" % a\n",
    "        "
   ]
  }
 ],
 "metadata": {
  "kernelspec": {
   "display_name": "Python 2",
   "language": "python",
   "name": "python2"
  },
  "language_info": {
   "codemirror_mode": {
    "name": "ipython",
    "version": 2
   },
   "file_extension": ".py",
   "mimetype": "text/x-python",
   "name": "python",
   "nbconvert_exporter": "python",
   "pygments_lexer": "ipython2",
   "version": "2.7.13"
  }
 },
 "nbformat": 4,
 "nbformat_minor": 2
}
