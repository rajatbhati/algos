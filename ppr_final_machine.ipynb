{
 "cells": [
  {
   "cell_type": "code",
   "execution_count": 1,
   "metadata": {
    "collapsed": false,
    "deletable": true,
    "editable": true
   },
   "outputs": [
    {
     "name": "stdout",
     "output_type": "stream",
     "text": [
      "3\n",
      "[54, 43, 35]\n",
      "[1, 1, 1]\n",
      "[1, 1, 1]\n",
      "[1, 1, 1]\n",
      "[1, 0, 0]\n",
      "[]\n",
      "3\n",
      "3\n",
      "183\n",
      "276\n"
     ]
    }
   ],
   "source": [
    "import os\n",
    "import subprocess\n",
    "import pandas as pd\n",
    "\n",
    "imn=\"a.jpg\"\n",
    "\n",
    "#tp['FaceRecords'][0]['Face']['BoundingBox']\n",
    "\n",
    "os.system(\"aws s3 cp \"+imn+\" s3://litmind/a.jpg\")\n",
    "proc = subprocess.Popen(['aws rekognition index-faces --image \"S3Object={Bucket=litmind,Name=a.jpg}\" --region us-east-1 --collection-id \"examplecollection\" --detection-attributes \"ALL\"'], stdout=subprocess.PIPE, shell=True)\n",
    "(out, err) = proc.communicate()\n",
    "\n",
    "\n",
    "proc1 = subprocess.Popen(['aws rekognition detect-labels --image \"S3Object={Bucket=litmind,Name=a.jpg}\" --region us-east-1'], stdout=subprocess.PIPE, shell=True)\n",
    "(out1, err) = proc1.communicate()\n",
    "#print \"program output:\", out\n",
    "\n",
    "import simplejson as json\n",
    "\n",
    "tp=json.loads(out)\n",
    "labels=json.loads(out1)\n",
    "\n",
    "\n",
    "os.system(\"aws s3 rm s3://litmind/a.jpg\")\n",
    "\n",
    "my_json = out.decode('utf8').replace(\"'\", '\"')\n",
    "#print(my_json)\n",
    "#print(out)\n",
    "#print('- '*20)\n",
    "#s = json.dumps(my_json, indent=4, sort_keys=True)\n",
    "#print(s)\n",
    "noOfPeople=0  #no of faces in the pic\n",
    "age=[]\n",
    "emo2d=[]\n",
    "emoConfidence2d=[]\n",
    "gender=[]\n",
    "human=[]\n",
    "kid=[]\n",
    "happy=[]\n",
    "sad=[]\n",
    "angry=[]\n",
    "\n",
    "\n",
    "faceNo=0\n",
    "gen=\"\"\n",
    "emo=[]\n",
    "emoConfidence=[]\n",
    "flagHappy=0\n",
    "flagSad=0\n",
    "flagAngry=0\n",
    "for i in tp['FaceRecords']:\n",
    "\tl_age = tp['FaceRecords'][faceNo]['FaceDetail']['AgeRange']['Low']\n",
    "\th_age = tp['FaceRecords'][faceNo]['FaceDetail']['AgeRange']['High']\n",
    "\tage.append((l_age+h_age)/2)\n",
    "\tgen=(tp['FaceRecords'][faceNo]['FaceDetail']['Gender']['Value'])\n",
    "\tif(gen==\"Female\"):\t\t#Gender- 1 for male, 0 for female\n",
    "\t\tgender.append(0)\n",
    "\telif (gen==\"Male\"):\n",
    "\t\tgender.append(1)\n",
    "\temoNo=0\n",
    "\tfor j in tp['FaceRecords'][faceNo]['FaceDetail']['Emotions']:\n",
    "\t\temo=(tp['FaceRecords'][faceNo]['FaceDetail']['Emotions'][emoNo]['Type'])\n",
    "\t\tif emo==\"HAPPY\":\n",
    "\t\t\tflagHappy=1\n",
    "\t\tif emo==\"SAD\":\n",
    "\t\t\tflagSad=1\n",
    "\t\tif emo==\"ANGRY\":\n",
    "\t\t\tflagAngry=1\n",
    "\t\t#emoConfidence.append(tp['FaceRecords'][faceNo]['FaceDetail']['Emotions'][emoNo]['Confidence'])\n",
    "\t\temoNo+=1\n",
    "\tif(flagHappy==1):\n",
    "\t\thappy.append(1)\n",
    "\telse:\n",
    "\t\thappy.append(0)\n",
    "\tif(flagSad==1):\n",
    "\t\tsad.append(1)\n",
    "\telse:\n",
    "\t\tsad.append(0)\n",
    "\tif(flagAngry==1):\n",
    "\t\tangry.append(1)\n",
    "\telse:\n",
    "\t\tangry.append(0)\n",
    "\t#emo2d.append(emo)\n",
    "\t#emoConfidence2d.append(emoConfidence)\n",
    "\t#emo=[]\n",
    "\t#emoConfidence=[]\n",
    "\tfaceNo+=1\n",
    "noOfPeople=faceNo\n",
    "print noOfPeople\n",
    "print(age)\n",
    "print(happy)\n",
    "print(sad)\n",
    "print(angry)\n",
    "print(gender)\n",
    "\n",
    "def getLabels(labels):\n",
    "\tlabelNo=0\n",
    "\tflagHuman=0\n",
    "\tflagChild=0\n",
    "\tfor i in labels[\"Labels\"]:\n",
    "\t\tname=labels[\"Labels\"][labelNo][\"Name\"]\n",
    "\t\tif((name==\"Person\") or (name==\"People\") or (name==\"Human\")):\n",
    "\t\t\tflagHuman=1\n",
    "\t\tlabelNo+=1\n",
    "\tif(flagHuman==1):\t\t\t\t#Human- 1 for human, 0 for non-human\n",
    "\t\thuman.append(1)\n",
    "\telse:\n",
    "\t\thuman.append(0)\n",
    "\n",
    "faceData=pd.DataFrame()\n",
    "faceData[\"Age\"]=\"NaN\"\n",
    "faceData[\"Happy\"]=\"NaN\"\n",
    "faceData[\"Sad\"]=\"NaN\"\n",
    "faceData[\"Angry\"]=\"NaN\"\n",
    "faceData[\"Gender\"]=\"NaN\"\n",
    "\n",
    "data=[]\n",
    "data2d=[]\n",
    "\n",
    "\n",
    "print(data2d)\n",
    "#getFaceFeatures(tp)\n",
    "#print(labels)\n",
    "getLabels(labels)\n",
    "\n",
    "print noOfPeople\n",
    "\n",
    "for i in range(noOfPeople):\n",
    "\tdata.append(age[i])\n",
    "\tdata.append(happy[i])\n",
    "\tdata.append(sad[i])\n",
    "\tdata.append(angry[i])\n",
    "\tdata.append(gender[i])\n",
    "\tdata2d.append(data)\n",
    "\tdata=[]\n",
    "\n",
    "##cropper\n",
    "print noOfPeople\n",
    "\n",
    "from PIL import Image\n",
    "im=Image.open(imn)\n",
    "width, height = im.size\n",
    "\n",
    "print height\n",
    "print width\n"
   ]
  },
  {
   "cell_type": "code",
   "execution_count": 2,
   "metadata": {
    "collapsed": false,
    "deletable": true,
    "editable": true
   },
   "outputs": [
    {
     "name": "stdout",
     "output_type": "stream",
     "text": [
      "face no : 0\n",
      "face no : 1\n",
      "face no : 2\n"
     ]
    }
   ],
   "source": [
    "\n",
    "for k in range(noOfPeople):\n",
    "    print \"face no : \"+str(k);\n",
    "    p=tp['FaceRecords'][k]['Face']['BoundingBox']\n",
    "    for i in tp['FaceRecords'][k]['FaceDetail']['Landmarks']:\n",
    "\n",
    "        if i['Type']=='eyeLeft':\n",
    "            x1=i['X']*width\n",
    "            y1=i['Y']*height\n",
    "        elif i['Type']=='mouthRight':\n",
    "            x2=i['X']*width\n",
    "            y2=i['Y']*height\n",
    "    x1=x1-p['Width']*width/2.5\n",
    "    x1=x1 if x1>0 else 0;\n",
    "    y1=y1-p['Height']*height/2\n",
    "    y1=y1 if y1>0 else 0;\n",
    "    x2=x2+p['Width']*width/3\n",
    "    x2=x2 if x2<width else width;\n",
    "    y2=y2+p['Height']*height/3\n",
    "    y2=y2 if y2<height else height;\n",
    "    ni=\"f\"+str(k)+\".jpg\"\n",
    "    im.crop((x1, y1,x2, y2)).resize((200, 200), Image.ANTIALIAS).save(ni)\n"
   ]
  },
  {
   "cell_type": "code",
   "execution_count": 3,
   "metadata": {
    "collapsed": false,
    "deletable": true,
    "editable": true
   },
   "outputs": [
    {
     "data": {
      "text/plain": [
       "[[54, 1, 1, 1, 1], [43, 1, 1, 1, 0], [35, 1, 1, 1, 0]]"
      ]
     },
     "execution_count": 3,
     "metadata": {},
     "output_type": "execute_result"
    }
   ],
   "source": [
    "data2d"
   ]
  },
  {
   "cell_type": "code",
   "execution_count": 4,
   "metadata": {
    "collapsed": true,
    "deletable": true,
    "editable": true
   },
   "outputs": [],
   "source": [
    "## CREATE A COLLECTION\n",
    "\n",
    "proc = subprocess.Popen(['aws rekognition create-collection --collection-id \"f\"'], stdout=subprocess.PIPE, shell=True)\n",
    "(out, err) = proc.communicate()\n",
    "\n",
    "## populating a face\n",
    "\n",
    "os.system(\"aws s3 cp f1.jpg s3://litmind/f1.jpg\")\n",
    "\n",
    "proc = subprocess.Popen(['aws rekognition index-faces --image \"S3Object={Bucket=litmind,Name=f1.jpg}\" --region us-east-1 --collection-id \"f\" --detection-attributes \"ALL\" --external-image-id \"GOPAL\"'], stdout=subprocess.PIPE, shell=True)\n",
    "(out, err) = proc.communicate()"
   ]
  },
  {
   "cell_type": "code",
   "execution_count": 5,
   "metadata": {
    "collapsed": false,
    "deletable": true,
    "editable": true
   },
   "outputs": [
    {
     "data": {
      "text/plain": [
       "0"
      ]
     },
     "execution_count": 5,
     "metadata": {},
     "output_type": "execute_result"
    }
   ],
   "source": [
    "os.system(\"aws s3 rm s3://litmind/a.jpg\")\n",
    "os.system(\"aws s3 rm s3://litmind/f1.jpg\")\n"
   ]
  },
  {
   "cell_type": "code",
   "execution_count": 6,
   "metadata": {
    "collapsed": false,
    "deletable": true,
    "editable": true
   },
   "outputs": [
    {
     "name": "stdout",
     "output_type": "stream",
     "text": [
      "hey\n"
     ]
    }
   ],
   "source": [
    "for i in range(noOfPeople):\n",
    "    os.system(\"aws s3 cp f\"+str(i)+\".jpg s3://litmind/f\"+str(i)+\".jpg\")\n",
    "    proc = subprocess.Popen(['aws rekognition search-faces-by-image --collection-id \"f\" --image \"S3Object={Bucket =litmind ,Name =f'+str(i)+'.jpg}\"' ], stdout=subprocess.PIPE, shell=True)\n",
    "    (out, err) = proc.communicate()\n",
    "    tp4=json.loads(out)\n",
    "    for j in tp4['FaceMatches']:\n",
    "        if j['Similarity']>90:\n",
    "            print \"hey\" \n",
    "            data2d[i].append(1000)\n",
    "            break\n",
    "##drop the collection\n",
    "proc = subprocess.Popen(['aws rekognition delete-collection --collection-id \"f\"' ], stdout=subprocess.PIPE, shell=True)\n",
    "(out, err) = proc.communicate()\n",
    "    "
   ]
  },
  {
   "cell_type": "code",
   "execution_count": 7,
   "metadata": {
    "collapsed": false,
    "deletable": true,
    "editable": true
   },
   "outputs": [],
   "source": [
    "for i in data2d:\n",
    "    if len(i)==5:\n",
    "        i.append(0)\n",
    "\n"
   ]
  },
  {
   "cell_type": "code",
   "execution_count": 8,
   "metadata": {
    "collapsed": false,
    "deletable": true,
    "editable": true
   },
   "outputs": [
    {
     "data": {
      "text/plain": [
       "[[54, 1, 1, 1, 1, 0], [43, 1, 1, 1, 0, 1000], [35, 1, 1, 1, 0, 0]]"
      ]
     },
     "execution_count": 8,
     "metadata": {},
     "output_type": "execute_result"
    }
   ],
   "source": [
    "data2d"
   ]
  },
  {
   "cell_type": "code",
   "execution_count": 11,
   "metadata": {
    "collapsed": false,
    "deletable": true,
    "editable": true
   },
   "outputs": [],
   "source": [
    "import pandas\n",
    "import numpy as np\n",
    "from keras.models import Sequential\n",
    "from keras.layers import Dense\n",
    "from keras.wrappers.scikit_learn import KerasClassifier\n",
    "from keras.utils import np_utils\n",
    "from sklearn.model_selection import cross_val_score\n",
    "from sklearn.model_selection import KFold\n",
    "from sklearn.preprocessing import LabelEncoder\n",
    "from sklearn.pipeline import Pipeline\n",
    "from keras.models import load_model\n",
    "import h5py\n",
    "\n",
    "model=load_model(\"netite.h5\")"
   ]
  },
  {
   "cell_type": "code",
   "execution_count": 14,
   "metadata": {
    "collapsed": false,
    "deletable": true,
    "editable": true
   },
   "outputs": [],
   "source": [
    "res=[]\n",
    "for i in range(noOfPeople):\n",
    "    res.append(np.argmax(model.predict(np.array(data2d[i]).reshape(1,6))))\n"
   ]
  },
  {
   "cell_type": "code",
   "execution_count": 17,
   "metadata": {
    "collapsed": false,
    "deletable": true,
    "editable": true
   },
   "outputs": [
    {
     "data": {
      "text/plain": [
       "[4, 0, 3]"
      ]
     },
     "execution_count": 17,
     "metadata": {},
     "output_type": "execute_result"
    }
   ],
   "source": [
    "res"
   ]
  },
  {
   "cell_type": "code",
   "execution_count": 22,
   "metadata": {
    "collapsed": false,
    "deletable": true,
    "editable": true
   },
   "outputs": [
    {
     "data": {
      "image/jpeg": "[encoded data removed]",
      "text/plain": [
       "<IPython.core.display.Image object>"
      ]
     },
     "execution_count": 22,
     "metadata": {},
     "output_type": "execute_result"
    }
   ],
   "source": [
    "from IPython.display import Image \n",
    "Image(filename=\"f\"+str(np.argmax(res))+\".jpg\")\n"
   ]
  }
 ],
 "metadata": {
  "kernelspec": {
   "display_name": "Python 2",
   "language": "python",
   "name": "python2"
  },
  "language_info": {
   "codemirror_mode": {
    "name": "ipython",
    "version": 2
   },
   "file_extension": ".py",
   "mimetype": "text/x-python",
   "name": "python",
   "nbconvert_exporter": "python",
   "pygments_lexer": "ipython2",
   "version": "2.7.13"
  }
 },
 "nbformat": 4,
 "nbformat_minor": 2
}
