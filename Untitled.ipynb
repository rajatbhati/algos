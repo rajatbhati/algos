{
 "cells": [
  {
   "cell_type": "code",
   "execution_count": 62,
   "metadata": {
    "collapsed": false
   },
   "outputs": [
    {
     "name": "stdout",
     "output_type": "stream",
     "text": [
      "--- 1.27138805389 seconds ---\n",
      "{m_}ivd,: c1u005.2 2,r ud5at1au ,:i 1c8f27}7{\n",
      "{_id: 1052 , data : 182}\n"
     ]
    }
   ],
   "source": [
    "import math\n",
    "import random\n",
    "data = \"{_id: 1052 , data : 182}\";\n",
    "key=\"593\"\n",
    "a='1234567890.{ },qwertyuiopasdfghjklzxcvbnm';\n",
    "xp=0\n",
    "\n",
    "#hence the eqn to solve is 2x-7y=0  therefore x=Math.roof((7/2)*y+c) where we will move y on the basis of yn=yi+1\n",
    "#hence we reduce the decoding computation\n",
    "\n",
    "\n",
    "##encrypt\n",
    "\n",
    "x1=float(key[0])\n",
    "x2=float(key[1])\n",
    "if(x1==0):\n",
    "    x1=1;\n",
    "elif (x2==0):\n",
    "    x2=0\n",
    "\n",
    "\n",
    "if(x2<x1):\n",
    "    t=x2\n",
    "    x2=x1\n",
    "    x1=t\n",
    "x3=x2/x1;\n",
    "    \n",
    "\n",
    "\n",
    "import time\n",
    "start_time = time.time()\n",
    "for i in range(10000):\n",
    "    enc=''\n",
    "    x=[]\n",
    "    ld=len(data)\n",
    "    for i in range(ld):\n",
    "        x.append(int(math.ceil((x3)*i)));\n",
    "    p=0\n",
    "    for i in range(x[-1]+3):\n",
    "        if i in x:\n",
    "            enc=enc+data[p];\n",
    "            p=p+1\n",
    "        else:\n",
    "            enc=enc+a[random.randint(0,40)];\n",
    "            \n",
    "##client side decode\n",
    "\n",
    "    dec=''\n",
    "    x=[]\n",
    "    for i in range(len(data)):\n",
    "        x.append(int(math.ceil((x3)*i)));\n",
    "\n",
    "\n",
    "    for i in range(len(enc)):\n",
    "        if i in x:\n",
    "            dec=dec+enc[i];\n",
    "print(\"--- %s seconds ---\" % (time.time() - start_time))\n",
    "print enc\n",
    "print dec"
   ]
  }
 ],
 "metadata": {
  "kernelspec": {
   "display_name": "Python 2",
   "language": "python",
   "name": "python2"
  },
  "language_info": {
   "codemirror_mode": {
    "name": "ipython",
    "version": 2
   },
   "file_extension": ".py",
   "mimetype": "text/x-python",
   "name": "python",
   "nbconvert_exporter": "python",
   "pygments_lexer": "ipython2",
   "version": "2.7.13"
  }
 },
 "nbformat": 4,
 "nbformat_minor": 2
}
